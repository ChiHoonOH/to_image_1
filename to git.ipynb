{
 "cells": [
  {
   "cell_type": "code",
   "execution_count": 1,
   "id": "surface-baseline",
   "metadata": {},
   "outputs": [
    {
     "name": "stdout",
     "output_type": "stream",
     "text": [
      "Reinitialized existing Git repository in /home/ec2-user/SageMaker/sagemaker-byos-byoc/.git/\r\n"
     ]
    }
   ],
   "source": [
    "! git init"
   ]
  },
  {
   "cell_type": "code",
   "execution_count": null,
   "id": "falling-doubt",
   "metadata": {},
   "outputs": [],
   "source": []
  },
  {
   "cell_type": "code",
   "execution_count": 2,
   "id": "intimate-roommate",
   "metadata": {},
   "outputs": [],
   "source": [
    "! git add ."
   ]
  },
  {
   "cell_type": "code",
   "execution_count": 3,
   "id": "matched-setting",
   "metadata": {
    "scrolled": true
   },
   "outputs": [
    {
     "name": "stdout",
     "output_type": "stream",
     "text": [
      "[main fa49abf] first commit\r\n",
      " Committer: EC2 Default User <ec2-user@ip-172-16-9-214.ap-northeast-2.compute.internal>\r\n",
      "Your name and email address were configured automatically based\r\n",
      "on your username and hostname. Please check that they are accurate.\r\n",
      "You can suppress this message by setting them explicitly:\r\n",
      "\r\n",
      "    git config --global user.name \"Your Name\"\r\n",
      "    git config --global user.email you@example.com\r\n",
      "\r\n",
      "After doing this, you may fix the identity used for this commit with:\r\n",
      "\r\n",
      "    git commit --amend --reset-author\r\n",
      "\r\n",
      " 86 files changed, 26327 insertions(+), 738 deletions(-)\r\n",
      " create mode 100644 .ipynb_checkpoints/to git-checkpoint.ipynb\r\n",
      " create mode 100644 BYOC/nginx.conf\r\n",
      " create mode 100644 BYOC/predictor.py\r\n",
      " create mode 100644 BYOC/scikit_bring_your_own_kr/.ipynb_checkpoints/scikit(20210406)-checkpoint.ipynb\r\n",
      " create mode 100644 BYOC/scikit_bring_your_own_kr/.ipynb_checkpoints/scikit-checkpoint.ipynb\r\n",
      " create mode 100644 BYOC/scikit_bring_your_own_kr/.ipynb_checkpoints/scikit_bring_your_own-Copy2-checkpoint.ipynb\r\n",
      " create mode 100644 BYOC/scikit_bring_your_own_kr/.ipynb_checkpoints/scikit_bring_your_own-checkpoint.ipynb\r\n",
      " create mode 100644 BYOC/scikit_bring_your_own_kr/container/sagemaker-gbm/backup/nginx-Copy1.conf\r\n",
      " create mode 100644 BYOC/scikit_bring_your_own_kr/container/sagemaker-gbm/backup/predictor-Copy1.py\r\n",
      " create mode 100644 BYOC/scikit_bring_your_own_kr/container/sagemaker-gbm/backup/serve-Copy1\r\n",
      " create mode 100644 BYOC/scikit_bring_your_own_kr/container/sagemaker-gbm/backup/train-Copy1\r\n",
      " create mode 100644 BYOC/scikit_bring_your_own_kr/container/sagemaker-gbm/backup/wsgi-Copy1.py\r\n",
      " create mode 100644 BYOC/scikit_bring_your_own_kr/container/sagemaker-gbm/nginx.conf\r\n",
      " create mode 100644 BYOC/scikit_bring_your_own_kr/container/sagemaker-gbm/predictor.py\r\n",
      " create mode 100755 BYOC/scikit_bring_your_own_kr/container/sagemaker-gbm/serve\r\n",
      " create mode 100755 BYOC/scikit_bring_your_own_kr/container/sagemaker-gbm/train\r\n",
      " create mode 100644 BYOC/scikit_bring_your_own_kr/container/sagemaker-gbm/wsgi.py\r\n",
      " create mode 100644 BYOC/scikit_bring_your_own_kr/container/sagemaker-lightgbm/backup/nginx-Copy1.conf\r\n",
      " create mode 100644 BYOC/scikit_bring_your_own_kr/container/sagemaker-lightgbm/backup/predictor-Copy1.py\r\n",
      " create mode 100644 BYOC/scikit_bring_your_own_kr/container/sagemaker-lightgbm/backup/serve-Copy1\r\n",
      " create mode 100644 BYOC/scikit_bring_your_own_kr/container/sagemaker-lightgbm/backup/train-Copy1\r\n",
      " create mode 100644 BYOC/scikit_bring_your_own_kr/container/sagemaker-lightgbm/backup/wsgi-Copy1.py\r\n",
      " create mode 100644 BYOC/scikit_bring_your_own_kr/container/sagemaker-lightgbm/nginx.conf\r\n",
      " create mode 100644 BYOC/scikit_bring_your_own_kr/container/sagemaker-lightgbm/predictor.py\r\n",
      " create mode 100755 BYOC/scikit_bring_your_own_kr/container/sagemaker-lightgbm/serve\r\n",
      " create mode 100755 BYOC/scikit_bring_your_own_kr/container/sagemaker-lightgbm/train\r\n",
      " create mode 100644 BYOC/scikit_bring_your_own_kr/container/sagemaker-lightgbm/wsgi.py\r\n",
      " create mode 100644 BYOC/scikit_bring_your_own_kr/container/sagemaker-random-forest/backup/nginx-Copy1.conf\r\n",
      " create mode 100644 BYOC/scikit_bring_your_own_kr/container/sagemaker-random-forest/backup/predictor-Copy1.py\r\n",
      " create mode 100644 BYOC/scikit_bring_your_own_kr/container/sagemaker-random-forest/backup/serve-Copy1\r\n",
      " create mode 100644 BYOC/scikit_bring_your_own_kr/container/sagemaker-random-forest/backup/train-Copy1\r\n",
      " create mode 100644 BYOC/scikit_bring_your_own_kr/container/sagemaker-random-forest/backup/wsgi-Copy1.py\r\n",
      " create mode 100644 BYOC/scikit_bring_your_own_kr/container/sagemaker-random-forest/backup_20210406_preprocessing_onpromise/nginx-Copy1.conf\r\n",
      " create mode 100644 BYOC/scikit_bring_your_own_kr/container/sagemaker-random-forest/backup_20210406_preprocessing_onpromise/predictor-Copy1.py\r\n",
      " create mode 100644 BYOC/scikit_bring_your_own_kr/container/sagemaker-random-forest/backup_20210406_preprocessing_onpromise/serve-Copy1\r\n",
      " create mode 100644 BYOC/scikit_bring_your_own_kr/container/sagemaker-random-forest/backup_20210406_preprocessing_onpromise/train-Copy1\r\n",
      " create mode 100644 BYOC/scikit_bring_your_own_kr/container/sagemaker-random-forest/backup_20210406_preprocessing_onpromise/wsgi-Copy1.py\r\n",
      " create mode 100644 BYOC/scikit_bring_your_own_kr/container/sagemaker-random-forest/nginx.conf\r\n",
      " create mode 100644 BYOC/scikit_bring_your_own_kr/container/sagemaker-random-forest/predictor.py\r\n",
      " create mode 100644 BYOC/scikit_bring_your_own_kr/container/sagemaker-random-forest/preprocessing.py\r\n",
      " create mode 100755 BYOC/scikit_bring_your_own_kr/container/sagemaker-random-forest/serve\r\n",
      " create mode 100755 BYOC/scikit_bring_your_own_kr/container/sagemaker-random-forest/train\r\n",
      " create mode 100644 BYOC/scikit_bring_your_own_kr/container/sagemaker-random-forest/wsgi.py\r\n",
      " create mode 100644 BYOC/scikit_bring_your_own_kr/container/sagemaker-svm/backup/nginx-Copy1.conf\r\n",
      " create mode 100644 BYOC/scikit_bring_your_own_kr/container/sagemaker-svm/backup/predictor-Copy1.py\r\n",
      " create mode 100644 BYOC/scikit_bring_your_own_kr/container/sagemaker-svm/backup/serve-Copy1\r\n",
      " create mode 100644 BYOC/scikit_bring_your_own_kr/container/sagemaker-svm/backup/train-Copy1\r\n",
      " create mode 100644 BYOC/scikit_bring_your_own_kr/container/sagemaker-svm/backup/wsgi-Copy1.py\r\n",
      " create mode 100644 BYOC/scikit_bring_your_own_kr/container/sagemaker-svm/nginx.conf\r\n",
      " create mode 100644 BYOC/scikit_bring_your_own_kr/container/sagemaker-svm/predictor.py\r\n",
      " create mode 100755 BYOC/scikit_bring_your_own_kr/container/sagemaker-svm/serve\r\n",
      " create mode 100755 BYOC/scikit_bring_your_own_kr/container/sagemaker-svm/train\r\n",
      " create mode 100644 BYOC/scikit_bring_your_own_kr/container/sagemaker-svm/wsgi.py\r\n",
      " create mode 100644 BYOC/scikit_bring_your_own_kr/container/sagemaker-xgboost/backup/nginx-Copy1.conf\r\n",
      " create mode 100644 BYOC/scikit_bring_your_own_kr/container/sagemaker-xgboost/backup/predictor-Copy1.py\r\n",
      " create mode 100644 BYOC/scikit_bring_your_own_kr/container/sagemaker-xgboost/backup/serve-Copy1\r\n",
      " create mode 100644 BYOC/scikit_bring_your_own_kr/container/sagemaker-xgboost/backup/train-Copy1\r\n",
      " create mode 100644 BYOC/scikit_bring_your_own_kr/container/sagemaker-xgboost/backup/wsgi-Copy1.py\r\n",
      " create mode 100644 BYOC/scikit_bring_your_own_kr/container/sagemaker-xgboost/nginx.conf\r\n",
      " create mode 100644 BYOC/scikit_bring_your_own_kr/container/sagemaker-xgboost/predictor.py\r\n",
      " create mode 100755 BYOC/scikit_bring_your_own_kr/container/sagemaker-xgboost/serve\r\n",
      " create mode 100755 BYOC/scikit_bring_your_own_kr/container/sagemaker-xgboost/train\r\n",
      " create mode 100644 BYOC/scikit_bring_your_own_kr/container/sagemaker-xgboost/wsgi.py\r\n",
      " create mode 100644 BYOC/scikit_bring_your_own_kr/container/tmp/Dockerfile\r\n",
      " create mode 100644 BYOC/scikit_bring_your_own_kr/random_forest/nginx.conf\r\n",
      " create mode 100644 BYOC/scikit_bring_your_own_kr/random_forest/predictor.py\r\n",
      " create mode 100644 BYOC/scikit_bring_your_own_kr/random_forest/serve\r\n",
      " create mode 100644 BYOC/scikit_bring_your_own_kr/random_forest/train\r\n",
      " create mode 100644 BYOC/scikit_bring_your_own_kr/random_forest/wsgi.py\r\n",
      " create mode 100644 BYOC/scikit_bring_your_own_kr/scikit(20210406).ipynb\r\n",
      " create mode 100644 BYOC/scikit_bring_your_own_kr/scikit.ipynb\r\n",
      " create mode 100644 BYOC/scikit_bring_your_own_kr/scikit_bring_your_own-Copy2.ipynb\r\n",
      " create mode 100644 BYOC/serve\r\n",
      " create mode 100644 BYOC/train\r\n",
      " create mode 100644 BYOC/wsgi.py\r\n",
      " create mode 100644 random_forest/nginx.conf\r\n",
      " create mode 100644 random_forest/predictor.py\r\n",
      " create mode 100644 random_forest/serve\r\n",
      " create mode 100644 random_forest/train\r\n",
      " create mode 100644 random_forest/wsgi.py\r\n",
      " create mode 100644 to git.ipynb\r\n"
     ]
    }
   ],
   "source": [
    "! git commit -m 'first commit'"
   ]
  },
  {
   "cell_type": "code",
   "execution_count": 7,
   "id": "mental-penny",
   "metadata": {},
   "outputs": [],
   "source": [
    "! git branch -M choh"
   ]
  },
  {
   "cell_type": "code",
   "execution_count": 6,
   "id": "headed-gabriel",
   "metadata": {},
   "outputs": [],
   "source": [
    "! git remote add remote1 'https://github.com/ChiHoonOH/to_sagemaker_image_1.git'"
   ]
  },
  {
   "cell_type": "code",
   "execution_count": null,
   "id": "existing-compiler",
   "metadata": {},
   "outputs": [],
   "source": [
    "! git remote add remote2 'https://ChiHoonOH:rngdd8cf@@@github.com/ChiHoonOH/to_sagemaker_image_1.git'"
   ]
  },
  {
   "cell_type": "code",
   "execution_count": 9,
   "id": "sitting-tyler",
   "metadata": {},
   "outputs": [],
   "source": [
    "!    git config --global user.name \"ChiHoonOH\"\n",
    "!    git config --global user.email pkrngd@naver.com\n",
    "\n",
    "! git push -u remote1 choh"
   ]
  },
  {
   "cell_type": "code",
   "execution_count": null,
   "id": "powerful-blood",
   "metadata": {},
   "outputs": [],
   "source": []
  }
 ],
 "metadata": {
  "kernelspec": {
   "display_name": "conda_tensorflow2_p36",
   "language": "python",
   "name": "conda_tensorflow2_p36"
  },
  "language_info": {
   "codemirror_mode": {
    "name": "ipython",
    "version": 3
   },
   "file_extension": ".py",
   "mimetype": "text/x-python",
   "name": "python",
   "nbconvert_exporter": "python",
   "pygments_lexer": "ipython3",
   "version": "3.6.13"
  }
 },
 "nbformat": 4,
 "nbformat_minor": 5
}
